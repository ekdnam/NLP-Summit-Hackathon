{
 "cells": [
  {
   "cell_type": "code",
   "execution_count": 23,
   "metadata": {},
   "outputs": [
    {
     "name": "stdout",
     "output_type": "stream",
     "text": [
      "1.0.5\n",
      "1.16.6\n",
      "3.5\n",
      "3.2.2\n"
     ]
    }
   ],
   "source": [
    "import numpy as np\n",
    "import pandas as pd\n",
    "import matplotlib\n",
    "import matplotlib.pyplot as plt\n",
    "import nltk\n",
    "\n",
    "print(pd.__version__)\n",
    "print(np.__version__)\n",
    "print(nltk.__version__)\n",
    "print(matplotlib.__version__)"
   ]
  },
  {
   "cell_type": "code",
   "execution_count": 24,
   "metadata": {},
   "outputs": [],
   "source": [
    "folder_path = \"../input/\"\n",
    "\n",
    "df_dataset = pd.read_csv(folder_path + \"dataset.csv\")\n",
    "df_precautions = pd.read_csv(folder_path + \"symptom_precaution.csv\")\n",
    "df_descriptions = pd.read_csv(folder_path + \"symptom_Description.csv\")\n",
    "df_severity = pd.read_csv(folder_path + 'Symptom-severity.csv')"
   ]
  },
  {
   "cell_type": "code",
   "execution_count": 25,
   "metadata": {},
   "outputs": [
    {
     "name": "stdout",
     "output_type": "stream",
     "text": [
      "Main dataset has 4920 rows, 18 columns\n",
      "Disease\n",
      "Symptom_1\n",
      "Symptom_2\n",
      "Symptom_3\n",
      "Symptom_4\n",
      "Symptom_5\n",
      "Symptom_6\n",
      "Symptom_7\n",
      "Symptom_8\n",
      "Symptom_9\n",
      "Symptom_10\n",
      "Symptom_11\n",
      "Symptom_12\n",
      "Symptom_13\n",
      "Symptom_14\n",
      "Symptom_15\n",
      "Symptom_16\n",
      "Symptom_17\n"
     ]
    }
   ],
   "source": [
    "print(\"Main dataset has \" + str(df_dataset.shape[0]) + \" rows, \" + str(df_dataset.shape[1]) + \" columns\")\n",
    "\n",
    "cols = df_dataset.columns\n",
    "\n",
    "for col in cols:\n",
    "    print(col)\n"
   ]
  },
  {
   "cell_type": "code",
   "execution_count": 26,
   "metadata": {},
   "outputs": [
    {
     "data": {
      "text/plain": [
       "Dengue                                     120\n",
       "Impetigo                                   120\n",
       "Common Cold                                120\n",
       "GERD                                       120\n",
       "Hepatitis B                                120\n",
       "Jaundice                                   120\n",
       "Tuberculosis                               120\n",
       "Psoriasis                                  120\n",
       "Bronchial Asthma                           120\n",
       "Hyperthyroidism                            120\n",
       "hepatitis A                                120\n",
       "Varicose veins                             120\n",
       "Migraine                                   120\n",
       "Heart attack                               120\n",
       "Hypothyroidism                             120\n",
       "AIDS                                       120\n",
       "Drug Reaction                              120\n",
       "Malaria                                    120\n",
       "Allergy                                    120\n",
       "Hepatitis C                                120\n",
       "Fungal infection                           120\n",
       "Gastroenteritis                            120\n",
       "Chicken pox                                120\n",
       "Urinary tract infection                    120\n",
       "Hepatitis D                                120\n",
       "Dimorphic hemmorhoids(piles)               120\n",
       "Chronic cholestasis                        120\n",
       "Alcoholic hepatitis                        120\n",
       "Hepatitis E                                120\n",
       "(vertigo) Paroymsal  Positional Vertigo    120\n",
       "Hypoglycemia                               120\n",
       "Diabetes                                   120\n",
       "Arthritis                                  120\n",
       "Hypertension                               120\n",
       "Peptic ulcer diseae                        120\n",
       "Pneumonia                                  120\n",
       "Osteoarthristis                            120\n",
       "Acne                                       120\n",
       "Paralysis (brain hemorrhage)               120\n",
       "Cervical spondylosis                       120\n",
       "Typhoid                                    120\n",
       "Name: Disease, dtype: int64"
      ]
     },
     "execution_count": 26,
     "metadata": {},
     "output_type": "execute_result"
    }
   ],
   "source": [
    "df_dataset['Disease'].value_counts()"
   ]
  },
  {
   "cell_type": "code",
   "execution_count": 30,
   "metadata": {},
   "outputs": [
    {
     "name": "stdout",
     "output_type": "stream",
     "text": [
      "Number of diseases are 41\n",
      "<class 'pandas.core.series.Series'>\n"
     ]
    }
   ],
   "source": [
    "print(\"Number of diseases are \" + str(df_dataset['Disease'].value_counts().shape[0]))"
   ]
  },
  {
   "cell_type": "code",
   "execution_count": 37,
   "metadata": {},
   "outputs": [
    {
     "name": "stdout",
     "output_type": "stream",
     "text": [
      "Fungal infection\n",
      "Allergy\n",
      "GERD\n",
      "Chronic cholestasis\n",
      "Drug Reaction\n",
      "Peptic ulcer diseae\n",
      "AIDS\n",
      "Diabetes \n",
      "Gastroenteritis\n",
      "Bronchial Asthma\n",
      "Hypertension \n",
      "Migraine\n",
      "Cervical spondylosis\n",
      "Paralysis (brain hemorrhage)\n",
      "Jaundice\n",
      "Malaria\n",
      "Chicken pox\n",
      "Dengue\n",
      "Typhoid\n",
      "hepatitis A\n",
      "Hepatitis B\n",
      "Hepatitis C\n",
      "Hepatitis D\n",
      "Hepatitis E\n",
      "Alcoholic hepatitis\n",
      "Tuberculosis\n",
      "Common Cold\n",
      "Pneumonia\n",
      "Dimorphic hemmorhoids(piles)\n",
      "Heart attack\n",
      "Varicose veins\n",
      "Hypothyroidism\n",
      "Hyperthyroidism\n",
      "Hypoglycemia\n",
      "Osteoarthristis\n",
      "Arthritis\n",
      "(vertigo) Paroymsal  Positional Vertigo\n",
      "Acne\n",
      "Urinary tract infection\n",
      "Psoriasis\n",
      "Impetigo\n"
     ]
    }
   ],
   "source": [
    "diseases = df_dataset['Disease'].unique()\n",
    "\n",
    "for disease in diseases:\n",
    "    print(disease)"
   ]
  },
  {
   "cell_type": "raw",
   "metadata": {},
   "source": []
  }
 ],
 "metadata": {
  "kernelspec": {
   "display_name": "Python 3",
   "language": "python",
   "name": "python3"
  },
  "language_info": {
   "codemirror_mode": {
    "name": "ipython",
    "version": 3
   },
   "file_extension": ".py",
   "mimetype": "text/x-python",
   "name": "python",
   "nbconvert_exporter": "python",
   "pygments_lexer": "ipython3",
   "version": "3.8.3"
  }
 },
 "nbformat": 4,
 "nbformat_minor": 4
}
